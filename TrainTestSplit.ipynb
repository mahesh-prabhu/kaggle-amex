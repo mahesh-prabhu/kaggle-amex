{
 "cells": [
  {
   "cell_type": "markdown",
   "id": "f203e54a",
   "metadata": {},
   "source": [
    "    1. Group by customer ID. Merge the target and features.\n",
    "    2. Stratified split into train and test data.\n",
    "    3. Split train data into 10 folds."
   ]
  },
  {
   "cell_type": "code",
   "execution_count": 1,
   "id": "6722f1d6",
   "metadata": {},
   "outputs": [
    {
     "data": {
      "text/html": [
       "<style>.container { width:100% !important; }</style>"
      ],
      "text/plain": [
       "<IPython.core.display.HTML object>"
      ]
     },
     "metadata": {},
     "output_type": "display_data"
    }
   ],
   "source": [
    "import utils\n",
    "\n",
    "utils.widen_ipython_window()"
   ]
  },
  {
   "cell_type": "code",
   "execution_count": 2,
   "id": "720353e2",
   "metadata": {},
   "outputs": [],
   "source": [
    "# Paths\n",
    "MAIN_PATH = \"/home/mahesh/Desktop/ML/kaggle/amex/\"\n",
    "\n",
    "# Data\n",
    "PATH_TO_DATA                = MAIN_PATH + \"data/\"\n",
    "PATH_TO_PROCESSED2_DATA     = PATH_TO_DATA + \"processed2/\"\n",
    "PATH_TO_PROCESSED4_DATA     = PATH_TO_DATA + \"processed4/\""
   ]
  },
  {
   "cell_type": "code",
   "execution_count": 12,
   "id": "c0a888d2",
   "metadata": {},
   "outputs": [
    {
     "name": "stdout",
     "output_type": "stream",
     "text": [
      "(348773, 2)\n",
      "(87194, 2)\n",
      "(348773, 2)\n",
      "(87194, 2)\n",
      "(348774, 2)\n",
      "(87193, 2)\n",
      "(348774, 2)\n",
      "(87193, 2)\n",
      "(348774, 2)\n",
      "(87193, 2)\n"
     ]
    }
   ],
   "source": [
    "import pandas as pd\n",
    "from sklearn.model_selection import StratifiedKFold, train_test_split\n",
    "\n",
    "SEED = 42\n",
    "NUM_FOLDS = 5\n",
    "TARGET_LABEL = 'target'\n",
    "CUSTOMER_ID_LABEL = \"customer_ID\"\n",
    "SAVE_FILES = True\n",
    "\n",
    "# Load all the data\n",
    "#train_full_data   = pd.read_feather(FILENAME_TRAIN_PROCESSED2_DATA_FEATHER)\n",
    "train_full_labels = pd.read_feather(FILENAME_TRAIN_PROCESSED2_LABELS_FEATHER)\n",
    "\n",
    "# Spilt into train-test data\n",
    "train_label, test_label = train_test_split(train_full_labels, test_size = 0.05, shuffle = True, \n",
    "                                           random_state = SEED, stratify = train_full_labels[TARGET_LABEL])\n",
    "\n",
    "train_label.reset_index(inplace = True)\n",
    "test_label.reset_index(inplace = True)\n",
    "\n",
    "# Split train data into 5 folds\n",
    "kfold = StratifiedKFold(n_splits = NUM_FOLDS, shuffle = True, random_state = SEED)\n",
    "for fold, (trn_ind, val_ind) in enumerate(kfold.split(train_label, train_label[TARGET_LABEL])):\n",
    "    # Write all the data to file\n",
    "    k_train_cid = train_label[[CUSTOMER_ID_LABEL]].iloc[trn_ind]\n",
    "    k_val_cid   = train_label[[CUSTOMER_ID_LABEL]].iloc[val_ind]\n",
    "    k_train_cid.reset_index(inplace = True)\n",
    "    k_val_cid.reset_index(inplace = True)\n",
    "    print(k_train_cid.shape)\n",
    "    print(k_val_cid.shape)\n",
    "    if SAVE_FILES:\n",
    "        k_train_cid.to_feather(f'{PATH_TO_PROCESSED4_DATA}/train_{CUSTOMER_ID_LABEL}_fold_{fold}.f')\n",
    "        k_val_cid.to_feather(f'{PATH_TO_PROCESSED4_DATA}/val_{CUSTOMER_ID_LABEL}_fold_{fold}.f')\n",
    "    \n",
    "\n",
    "if SAVE_FILES:\n",
    "    (test_label[[CUSTOMER_ID_LABEL]]).to_feather(f'{PATH_TO_PROCESSED4_DATA}/test_{CUSTOMER_ID_LABEL}.f')"
   ]
  },
  {
   "cell_type": "code",
   "execution_count": 11,
   "id": "20413a73",
   "metadata": {},
   "outputs": [
    {
     "name": "stdout",
     "output_type": "stream",
     "text": [
      "(435967, 3)\n",
      "(22946, 3)\n"
     ]
    }
   ],
   "source": [
    "print(train_label.shape)\n",
    "print(test_label.shape)"
   ]
  },
  {
   "cell_type": "code",
   "execution_count": null,
   "id": "ceaedd5b",
   "metadata": {},
   "outputs": [],
   "source": []
  }
 ],
 "metadata": {
  "kernelspec": {
   "display_name": "Python 3 (ipykernel)",
   "language": "python",
   "name": "python3"
  },
  "language_info": {
   "codemirror_mode": {
    "name": "ipython",
    "version": 3
   },
   "file_extension": ".py",
   "mimetype": "text/x-python",
   "name": "python",
   "nbconvert_exporter": "python",
   "pygments_lexer": "ipython3",
   "version": "3.10.12"
  }
 },
 "nbformat": 4,
 "nbformat_minor": 5
}
