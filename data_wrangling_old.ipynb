{
 "cells": [
  {
   "cell_type": "code",
   "execution_count": 1,
   "id": "f4f0b020",
   "metadata": {},
   "outputs": [
    {
     "data": {
      "text/html": [
       "<style>.container { width:100% !important; }</style>"
      ],
      "text/plain": [
       "<IPython.core.display.HTML object>"
      ]
     },
     "metadata": {},
     "output_type": "display_data"
    }
   ],
   "source": [
    "import pandas as pd\n",
    "import datetime\n",
    "import numpy as np\n",
    "#import gc\n",
    "\n",
    "from IPython.display import display, HTML\n",
    "display(HTML(\"<style>.container { width:100% !important; }</style>\"))"
   ]
  },
  {
   "cell_type": "code",
   "execution_count": 2,
   "id": "a1915309",
   "metadata": {},
   "outputs": [],
   "source": [
    "# Paths\n",
    "\n",
    "MAIN_PATH = \"/home/mahesh/Desktop/ML/kaggle/amex/\"\n",
    "\n",
    "# Data\n",
    "FILENAME_TRAIN_DATA_CSV     = MAIN_PATH + \"data/orig/train_data.csv\"\n",
    "FILENAME_TRAIN_LABELS_CSV   = MAIN_PATH + \"data/orig/train_labels.csv\"\n",
    "FILENAME_CID_MAP            = MAIN_PATH + \"data/processed/cid_map.csv\"\n",
    "FILENAME_TRAIN_DATA_FEATHER = MAIN_PATH + \"data/processed/train_data.f\""
   ]
  },
  {
   "cell_type": "code",
   "execution_count": null,
   "id": "a99e5af0",
   "metadata": {},
   "outputs": [],
   "source": [
    "CDATA_SIZE = 13\n",
    "NUM_C_IN_CHUNK = 1000\n",
    "\n",
    "\n",
    "def process_cid(chunk, chunksize):\n",
    "    for i in range(0, NUM_C_IN_CHUNK):\n",
    "        cids = (chunk.iloc[(i*CDATA_SIZE):(i*CDATA_SIZE+(CDATA_SIZE))][\"customer_ID\"]).tolist()\n",
    "        if (len(set(cids))!=1):\n",
    "            print((cids))\n",
    "            return (i+1)\n",
    "    return 0\n",
    "\n",
    "\n",
    "chunksize = CDATA_SIZE*NUM_C_IN_CHUNK\n",
    "chunk_count = 0\n",
    "with pd.read_csv(FILENAME_TRAIN_DATA_CSV, chunksize=chunksize) as reader:\n",
    "    for chunk in reader:\n",
    "        flag = process_cid(chunk, chunksize)\n",
    "        if (flag != 0 ):\n",
    "            print(f'chunk_size {chunk_count} failed at {flag}.')\n",
    "        chunk_count += 1\n"
   ]
  },
  {
   "cell_type": "code",
   "execution_count": 35,
   "id": "db3ba4a5",
   "metadata": {},
   "outputs": [
    {
     "name": "stdout",
     "output_type": "stream",
     "text": [
      "<class 'pandas.core.frame.DataFrame'>\n",
      "RangeIndex: 10 entries, 0 to 9\n",
      "Data columns (total 2 columns):\n",
      " #   Column       Non-Null Count  Dtype \n",
      "---  ------       --------------  ----- \n",
      " 0   customer_ID  10 non-null     object\n",
      " 1   target       10 non-null     int64 \n",
      "dtypes: int64(1), object(1)\n",
      "memory usage: 288.0+ bytes\n"
     ]
    }
   ],
   "source": [
    "chunksize = 10\n",
    "chunk = None\n",
    "with pd.read_csv(FILENAME_TRAIN_LABELS_CSV, chunksize=chunksize) as reader:\n",
    "    for chunk in reader:\n",
    "        chunk.head()\n",
    "        #chunk.info()\n",
    "        #print(chunk.dtypes)\n",
    "        #chunk.describe()\n",
    "        break\n",
    "chunk.head()\n",
    "chunk.describe()\n",
    "chunk.info()"
   ]
  },
  {
   "cell_type": "code",
   "execution_count": 42,
   "id": "87e34398",
   "metadata": {},
   "outputs": [
    {
     "name": "stdout",
     "output_type": "stream",
     "text": [
      "<class 'pandas.core.frame.DataFrame'>\n",
      "RangeIndex: 10 entries, 0 to 9\n",
      "Columns: 190 entries, customer_ID to D_145\n",
      "dtypes: float64(185), int64(1), object(4)\n",
      "memory usage: 15.0+ KB\n"
     ]
    }
   ],
   "source": [
    "chunksize = 10\n",
    "chunk = None\n",
    "with pd.read_csv(FILENAME_TRAIN_DATA_CSV, chunksize=chunksize) as reader:\n",
    "    for chunk in reader:\n",
    "        #chunk.head()\n",
    "        #chunk.info()\n",
    "        #print(chunk.dtypes)\n",
    "        #chunk.describe()\n",
    "        break\n",
    "#chunk.describe()\n",
    "chunk.info()\n",
    "#chunk.head()\n"
   ]
  },
  {
   "cell_type": "markdown",
   "id": "7f79f45b",
   "metadata": {},
   "source": [
    "We need to remap the string customer-ids to our own id. We will then save this mapping in a csv file. \n",
    "\n",
    "TBD: We also need to count the number of occurances of each cid in the same mapping dict and then we need to write this to the CSV file."
   ]
  },
  {
   "cell_type": "code",
   "execution_count": 18,
   "id": "677c7a7a",
   "metadata": {},
   "outputs": [
    {
     "name": "stdout",
     "output_type": "stream",
     "text": [
      "2022-07-20 11:19:11.307424\n",
      "2022-07-20 11:26:59.547063\n"
     ]
    }
   ],
   "source": [
    "def count_cids(cid_count_dict, chunk):\n",
    "    for index, row in chunk.iterrows():\n",
    "        cid = row['customer_ID']\n",
    "        if cid in cid_count_dict:\n",
    "            i = cid_count_dict[cid]\n",
    "            cid_count_dict[cid] = i+1\n",
    "        else:\n",
    "            cid_count_dict[cid] = 1\n",
    "\n",
    "def remap_cids(cid_map_dict, chunk):\n",
    "    for index, row in chunk.iterrows():\n",
    "        cid = row['customer_ID']\n",
    "        if cid in cid_map_dict:\n",
    "            pass\n",
    "        else:\n",
    "            cid_map_dict[cid] = np.uint32(remap_cids.count)\n",
    "            remap_cids.count += 1\n",
    "    \n",
    "    \n",
    "    \n",
    "chunksize = 100000\n",
    "cid_count_dict = {}\n",
    "cid_map_dict = {}\n",
    "total_rows = 0\n",
    "\n",
    "remap_cids.count = 0\n",
    "\n",
    "chunk_count = 0\n",
    "\n",
    "print(datetime.datetime.now())\n",
    "with pd.read_csv(FILENAME_TRAIN_DATA_CSV, chunksize=chunksize) as reader:\n",
    "    for chunk in reader:\n",
    "        #count_cid(cid_count_dict, chunk)\n",
    "        #total_rows += len(chunk.index)\n",
    "        #print(f'chunk : {chunk_count}')\n",
    "        remap_cids(cid_map_dict, chunk)\n",
    "        chunk_count += 1\n",
    "print(datetime.datetime.now())\n",
    "# Start: 2022-06-03 07:55:21.598694\n",
    "# End  : 2022-06-03 08:02:06.564735"
   ]
  },
  {
   "cell_type": "code",
   "execution_count": 7,
   "id": "cd5af73d",
   "metadata": {},
   "outputs": [],
   "source": [
    "def write_cid_data_to_file(filename, cid_map_dict):\n",
    "    with open(filename, 'w') as f:\n",
    "        for key in cid_map_dict.keys():\n",
    "            f.write(\"%s, %s\\n\" % (key, cid_map_dict[key]))\n",
    "            \n",
    "write_cid_data_to_file(FILENAME_CID_MAP, cid_map_dict)"
   ]
  },
  {
   "cell_type": "markdown",
   "id": "f01b3585",
   "metadata": {},
   "source": [
    "Go though the cid->count dict and create buckets based on count of number of rows per cid. We see that each customer has between 1 to 13 rows of data."
   ]
  },
  {
   "cell_type": "code",
   "execution_count": 8,
   "id": "47bf71ba",
   "metadata": {},
   "outputs": [
    {
     "name": "stdout",
     "output_type": "stream",
     "text": [
      "2022-06-05 18:34:54.170492\n",
      "2022-06-05 18:34:54.170611\n",
      "total rows:0\n",
      "total cids:0\n"
     ]
    }
   ],
   "source": [
    "cid_buckets = {}\n",
    "\n",
    "print(datetime.datetime.now())\n",
    "for cid in cid_count_dict:\n",
    "    count = cid_count_dict[cid]\n",
    "    if (count in cid_buckets):\n",
    "        c = cid_buckets[count]\n",
    "        cid_buckets[count] = c + 1\n",
    "    else:\n",
    "        cid_buckets[count] = 1\n",
    "print(datetime.datetime.now())\n",
    "\n",
    "total_rows = 0\n",
    "total_cids = 0\n",
    "for b in sorted(cid_buckets.keys()):\n",
    "    print(f'{b} : {cid_buckets[b]}')\n",
    "    total_rows += cid_buckets[b]*b\n",
    "    total_cids += cid_buckets[b]\n",
    "    \n",
    "print(f'total rows:{total_rows}')\n",
    "print(f'total cids:{total_cids}')\n"
   ]
  },
  {
   "cell_type": "markdown",
   "id": "12b8ae0f",
   "metadata": {},
   "source": [
    "Number of rows per cid below\n",
    "1 : 5120, 2 : 6098, 3 : 5778, 4 : 4673, 5 : 4671, 6 : 5515, 7 : 5198, 8 : 6110, 9 : 6411\n",
    "10 : 6721, 11 : 5961, 12 : 10623, 13 : 386034\n",
    "\n",
    "total rows:5531451\n",
    "\n",
    "total cids:458913\n",
    "\n",
    "\n",
    "If we add zeroed out rows to have 13 rows per cid, then we will add (458913 \\* 13 - 5531415 = 434418 rows) which is about 7% additional rows that are all zeroed out."
   ]
  },
  {
   "cell_type": "markdown",
   "id": "41bfbdf4",
   "metadata": {},
   "source": [
    "Iterate over the rows and collect some stats on the columns (max, min value), in the case of enums we'll collect the data in a set."
   ]
  },
  {
   "cell_type": "code",
   "execution_count": 29,
   "id": "446f8bcf",
   "metadata": {},
   "outputs": [
    {
     "name": "stdout",
     "output_type": "stream",
     "text": [
      "2022-07-20 11:39:58.778921\n",
      "2022-07-20 11:41:46.622170\n"
     ]
    }
   ],
   "source": [
    "#chunk.head()\n",
    "#chunk.info()\n",
    "#print(chunk.dtypes)\n",
    "#chunk.describe()\n",
    "#print(type(chunk[\"customer_ID\"][0]))\n",
    "#print((chunk[\"customer_ID\"]))\n",
    "#print((chunk[\"S_2\"][0]))\n",
    "\n",
    "\n",
    "id_time_cols = set(['customer_ID', 'S_2'])\n",
    "cat_cols = set(['B_30', 'B_38', 'D_114', 'D_116', 'D_117', 'D_120', 'D_126', 'D_63', 'D_64', 'D_66', 'D_68'])\n",
    "\n",
    "\n",
    "def process_cat_col(chunk, col_stats, col):\n",
    "    vals = chunk[col].astype(\"category\").cat.categories.values.tolist()\n",
    "    n_null_count = chunk[col].isnull().sum()\n",
    "    if col in col_stats:\n",
    "        (c_cat_vals, c_null_count) = col_stats[col]\n",
    "        col_stats[col] = (c_cat_vals.union(set(vals)), c_null_count + n_null_count)\n",
    "    else:\n",
    "        col_stats[col] = (set(vals), n_null_count)\n",
    "    \n",
    "def process_real_col( chunk, col_stats, col):\n",
    "    n_min = chunk[col].min()\n",
    "    n_max = chunk[col].max()\n",
    "    n_nan_count = chunk[col].isnull().sum()\n",
    "    if col in col_stats:\n",
    "        ((c_min, c_max), c_nan_count) = col_stats[col]\n",
    "        if (c_min < n_min):\n",
    "            n_min = c_min\n",
    "        if (c_max > n_max):\n",
    "            n_max = c_max\n",
    "        col_stats[col] = ((n_min, n_max), c_nan_count + n_nan_count)\n",
    "    else:\n",
    "        col_stats[col] = ((n_min, n_max), n_nan_count)\n",
    "\n",
    "def process_chunk(chunk, col_stats):\n",
    "    columns = list(chunk)\n",
    "    for col in columns:\n",
    "        if col not in id_time_cols:\n",
    "            if col in cat_cols:\n",
    "                process_cat_col(chunk, col_stats, col)\n",
    "            else:\n",
    "                process_real_col(chunk, col_stats, col)\n",
    "            \n",
    "chunksize = 100000\n",
    "col_stats = {}\n",
    "\n",
    "print(datetime.datetime.now())\n",
    "with pd.read_csv(FILENAME_TRAIN_DATA_CSV, chunksize=chunksize) as reader:\n",
    "    for chunk in reader:\n",
    "        process_chunk(chunk, col_stats)\n",
    "print(datetime.datetime.now())\n",
    "# 2022-06-04 12:56:04.261847\n",
    "# 2022-06-04 12:57:42.292620"
   ]
  },
  {
   "cell_type": "code",
   "execution_count": 10,
   "id": "6817d352",
   "metadata": {},
   "outputs": [
    {
     "name": "stdout",
     "output_type": "stream",
     "text": [
      "P_2 min, max is (-0.4589548331054999, 1.009999947398878), null values are 0.8313370216964772\n",
      "D_39 min, max is (5.026190099677308e-09, 5.389619396242631), null values are 0.0\n",
      "B_1 min, max is (-7.588799098308654, 1.3240604020685645), null values are 0.0\n",
      "B_2 min, max is (9.192279870617882e-09, 1.009999999641531), null values are 0.0364461332117016\n",
      "R_1 min, max is (1.5342230152981531e-09, 3.256284433154198), null values are 0.0\n",
      "S_3 min, max is (-0.6271320453080809, 5.482888258321006), null values are 18.44984254583472\n",
      "D_41 min, max is (5.566545069335403e-10, 8.988807033179892), null values are 0.0364461332117016\n",
      "B_3 min, max is (6.2852931681511845e-09, 1.6252622436744049), null values are 0.0364461332117016\n",
      "D_42 min, max is (-0.0004543302584009, 4.191118756428802), null values are 85.69427804747795\n",
      "D_43 min, max is (1.1545498247667041e-07, 10.111619400622503), null values are 29.981211078250535\n",
      "D_44 min, max is (5.153088222797917e-10, 5.634723661789413), null values are 4.9592593335817305\n",
      "B_4 min, max is (3.0993319777294914e-09, 19.803285707969977), null values are 0.0\n",
      "D_45 min, max is (1.5632410106380945e-08, 1.6100019829291632), null values are 0.0364642116507947\n",
      "B_5 min, max is (2.804821708224381e-11, 144.2070226881703), null values are 0.0\n",
      "R_2 min, max is (8.26574798606927e-10, 1.0099999294503634), null values are 0.0\n",
      "D_46 min, max is (-17.28934305264782, 16.3199007299845), null values are 21.905626570677388\n",
      "D_47 min, max is (-0.0266216416337296, 1.643096220655841), null values are 0.0\n",
      "D_48 min, max is (-0.0096152769201819, 8.97142521306228), null values are 12.993426137192573\n",
      "D_49 min, max is (5.021298330409873e-07, 45.84011802819581), null values are 90.13759680778153\n",
      "B_6 min, max is (-0.0051781684390964, 1214.516925566757), null values are 0.004212276308693686\n",
      "B_7 min, max is (-2.652748476905915, 1.252750103111754), null values are 0.0\n",
      "B_8 min, max is (1.1537036029851677e-08, 1.0190789399020022), null values are 0.40257068172528326\n",
      "D_50 min, max is (-306.487066636102, 244.0426689670196), null values are 56.80972316305433\n",
      "D_51 min, max is (3.5514975182948656e-10, 2.676605889987304), null values are 0.0\n",
      "B_9 min, max is (6.726069862184048e-09, 27.4248585069128), null values are 0.0\n",
      "R_3 min, max is (2.238321811232069e-09, 11.602601280229234), null values are 0.0\n",
      "D_52 min, max is (-0.0070831094650515, 1.0099999539921447), null values are 0.5344528949094912\n",
      "P_3 min, max is (-1.5196897383880732, 2.428050913879042), null values are 5.450504759058699\n",
      "B_10 min, max is (-0.0029584814025298, 4097.440729316883), null values are 0.0\n",
      "D_53 min, max is (5.678128922159688e-08, 7.901938888715765), null values are 73.84292114311417\n",
      "S_5 min, max is (8.168134859598552e-09, 206.8752804763748), null values are 0.0\n",
      "B_11 min, max is (2.0178136377335682e-08, 1.9703747821721005), null values are 0.0\n",
      "S_6 min, max is (2.5414648688557127e-09, 1.009999992405927), null values are 0.0\n",
      "D_54 min, max is (-0.0020057665000509, 1.009999999854298), null values are 0.0364461332117016\n",
      "R_4 min, max is (4.0246849408731566e-10, 1.0099999574074332), null values are 0.0\n",
      "S_7 min, max is (-0.4701317509602911, 3.9482712544168175), null values are 18.44984254583472\n",
      "B_12 min, max is (3.3436237443229546e-08, 420.7489933517321), null values are 0.0\n",
      "S_8 min, max is (6.187214479647096e-09, 1.2314128602139396), null values are 0.0\n",
      "D_55 min, max is (2.3532179468377386e-08, 2.7677589048751146), null values are 3.340949779723259\n",
      "D_56 min, max is (-0.0170891463735931, 10.956514240669138), null values are 54.07158085645158\n",
      "B_13 min, max is (1.9058504148183887e-08, 276.17782447161534), null values are 0.8952262254515135\n",
      "R_5 min, max is (1.1545892786291034e-09, 35.0045151942227), null values are 0.0\n",
      "D_58 min, max is (4.96894537627135e-09, 1.2619450801585763), null values are 0.0\n",
      "S_9 min, max is (2.823498086068632e-07, 2.839634759419279), null values are 53.035686296416614\n",
      "B_14 min, max is (-8.469853768330966, 55.01151584547242), null values are 0.0\n",
      "D_59 min, max is (-0.1024300594959483, 2.1533324930182345), null values are 1.9294214122117324\n",
      "D_60 min, max is (5.905030456831993e-09, 1.0099999981824832), null values are 0.0\n",
      "D_61 min, max is (-0.0092590178784995, 868.5154479080139), null values are 10.811846656510198\n",
      "B_15 min, max is (-10.008048525422836, 65.03742749193326), null values are 0.1251570338415725\n",
      "S_11 min, max is (-0.1999987356407281, 3.8014322413626966), null values are 0.0\n",
      "D_62 min, max is (-0.0028221346670395, 11.100952972547145), null values are 13.706367461268302\n",
      "D_63 values are {'CO', 'XZ', 'CL', 'XM', 'XL', 'CR'}, null values are 0.0\n",
      "D_64 values are {'R', '-1', 'U', 'O'}, null values are 3.9310119532831442\n",
      "D_65 min, max is (3.53940417308074e-09, 385.9016380179954), null values are 0.0\n",
      "B_16 min, max is (7.813820201985064e-10, 1.009999996084322), null values are 0.0364461332117016\n",
      "B_17 min, max is (3.774554910407346e-08, 1.0099999913726403), null values are 56.72287434165104\n",
      "B_18 min, max is (5.8912217352213873e-08, 1.009999998882574), null values are 0.0\n",
      "B_19 min, max is (1.573037570201663e-09, 1.0099999902761216), null values are 0.0364461332117016\n",
      "D_66 values are {0.0, 1.0}, null values are 88.73073267755603\n",
      "B_20 min, max is (1.218623094656479e-09, 1.0099999893849416), null values are 0.0364461332117016\n",
      "D_68 values are {0.0, 1.0, 2.0, 3.0, 4.0, 5.0, 6.0}, null values are 3.9140362989747177\n",
      "S_12 min, max is (-0.4041089608718481, 175.33141978722094), null values are 0.0\n",
      "R_6 min, max is (4.6506810291724314e-10, 14.44820127050934), null values are 0.0\n",
      "S_13 min, max is (3.6556575733204245e-09, 1.0099999697700697), null values are 0.0\n",
      "B_21 min, max is (4.4267525967089935e-09, 288.2942875761814), null values are 0.0\n",
      "D_69 min, max is (6.051601151302322e-09, 13000.909349826265), null values are 3.5157682857535932\n",
      "B_22 min, max is (2.056147848650269e-09, 3.5077588047431028), null values are 0.0364461332117016\n",
      "D_70 min, max is (6.623321358034671e-10, 7.004608268552563), null values are 1.7159512034003375\n",
      "D_71 min, max is (3.026939331407519e-09, 67.03230804932387), null values are 0.0\n",
      "D_72 min, max is (3.3814336330983957e-10, 3.009999890648296), null values are 0.4286036340193558\n",
      "S_15 min, max is (-0.2999997869040892, 5.308959433760895), null values are 0.0\n",
      "B_23 min, max is (4.3529628566130194e-08, 1.6930979992121915), null values are 0.0\n",
      "D_73 min, max is (-0.0452614935570035, 3.853646942170173), null values are 98.99021070601547\n",
      "P_4 min, max is (2.668066003685965e-09, 1.2693903764285452), null values are 0.0\n",
      "D_74 min, max is (2.137169229365909e-09, 4.5090854790484896), null values are 0.39362185437419583\n",
      "D_75 min, max is (1.1208106220905731e-09, 4.275118160424186), null values are 0.0\n",
      "D_76 min, max is (3.1284823169608346e-07, 15.13261459533479), null values are 88.74622589985883\n",
      "B_24 min, max is (1.820938899665947e-09, 46.60664741632751), null values are 0.0\n",
      "R_7 min, max is (8.676290463860426e-10, 449.9888854042718), null values are 1.807843909310595e-05\n",
      "D_77 min, max is (2.6787140213757614e-08, 10.229169660158522), null values are 45.44760497742816\n",
      "B_25 min, max is (-11.253577374985708, 15.699758371405638), null values are 0.1251570338415725\n",
      "B_26 min, max is (1.691720986629619e-09, 1499.2203098823074), null values are 0.0364461332117016\n",
      "D_78 min, max is (6.210012193363923e-10, 16.00864434848962), null values are 4.9592593335817305\n",
      "D_79 min, max is (1.4380668433844334e-10, 18.00687416215985), null values are 1.3728585862913727\n",
      "R_8 min, max is (1.7380910344311215e-09, 38.00807883554096), null values are 0.0\n",
      "R_9 min, max is (3.121485060242346e-07, 1.509999456356119), null values are 94.34989119491432\n",
      "S_16 min, max is (5.083304648323406e-09, 231.75894716058667), null values are 0.0\n",
      "D_80 min, max is (1.890424892181386e-09, 8.009780011849728), null values are 0.39362185437419583\n",
      "R_10 min, max is (2.2332498161858896e-09, 21.003672412683155), null values are 0.0\n",
      "R_11 min, max is (8.363790371390679e-10, 12.502596050582229), null values are 0.0\n",
      "B_27 min, max is (1.0441590292398215e-09, 1.0053700909808778), null values are 0.0364461332117016\n",
      "D_81 min, max is (5.759928967119521e-10, 8.00999272648431), null values are 0.4643808649846125\n",
      "D_82 min, max is (3.8131993883583353e-08, 3.008526474547693), null values are 73.37340600142711\n",
      "S_17 min, max is (1.0198057098786962e-09, 4.049070266700224), null values are 0.0\n",
      "R_12 min, max is (-0.0917934736522874, 1.0099999997931357), null values are 0.0010123925892139333\n",
      "B_28 min, max is (-2.1602069973983548e-05, 25.533371939885043), null values are 0.0\n",
      "R_13 min, max is (2.894742647807646e-09, 1.0053213737518945), null values are 0.0\n",
      "D_83 min, max is (5.042657013065721e-09, 38.00753095660378), null values are 3.5157682857535932\n",
      "R_14 min, max is (6.702420429771647e-10, 4837.304861010084), null values are 1.807843909310595e-05\n",
      "R_15 min, max is (3.588444008606473e-10, 1.0099999633226306), null values are 0.0\n",
      "D_84 min, max is (1.1903791830025767e-09, 29.005588414149454), null values are 0.5344528949094912\n",
      "R_16 min, max is (5.6605600540216e-10, 18.50013083799228), null values are 0.0\n",
      "B_29 min, max is (2.1463593442572212e-08, 12.023967787593664), null values are 93.1045940748639\n",
      "B_30 values are {0.0, 1.0, 2.0}, null values are 0.0364461332117016\n",
      "S_18 min, max is (4.075928594637901e-11, 1.0099999449287145), null values are 0.0\n",
      "D_86 min, max is (7.226233278423422e-11, 1.009999972996415), null values are 0.0\n",
      "D_87 min, max is (1.0, 1.0), null values are 99.93012683290515\n",
      "R_17 min, max is (1.0661143834411746e-09, 1.0015279405762851), null values are 0.0\n",
      "R_18 min, max is (2.1702871244588806e-09, 1.000777320630167), null values are 0.0\n",
      "D_88 min, max is (-3.196266383615005e-05, 2.669250093434481), null values are 99.891457051685\n",
      "B_31 min, max is (0, 1), null values are 0.0\n",
      "S_19 min, max is (3.1563902669340396e-09, 1.0047294856148157), null values are 0.0\n",
      "R_19 min, max is (1.954925309410882e-09, 1.0099998779247248), null values are 0.0\n",
      "B_32 min, max is (2.0981418269450103e-09, 1.0099999980877084), null values are 0.0\n",
      "S_20 min, max is (6.887991221837809e-10, 1.0099995775256172), null values are 0.0\n",
      "R_20 min, max is (4.972086038446122e-09, 45.006028224504064), null values are 0.0013558829319829462\n",
      "R_21 min, max is (3.6468720598925587e-09, 1.0099999400231243), null values are 0.0\n",
      "B_33 min, max is (2.1471889044555326e-10, 1.0099999926973888), null values are 0.0364461332117016\n",
      "D_89 min, max is (2.0142997048111512e-10, 1.0099964484531143), null values are 0.5344528949094912\n",
      "R_22 min, max is (9.57614627594694e-10, 1.0099998432591013), null values are 0.0\n",
      "R_23 min, max is (8.443200483210232e-10, 1.0099853149541451), null values are 0.0\n",
      "D_91 min, max is (1.1176824277203679e-09, 3.0097374296653863), null values are 2.8422198804617453\n",
      "D_92 min, max is (2.0883781381986204e-09, 2.009999865039541), null values are 0.0\n",
      "D_93 min, max is (6.382818610317642e-09, 1.0099999683795924), null values are 0.0\n",
      "D_94 min, max is (9.098536091212139e-10, 1.009999863410338), null values are 0.0\n",
      "R_24 min, max is (6.57026173467301e-10, 1.0099999468648522), null values are 0.0\n",
      "R_25 min, max is (4.6405618236988746e-11, 1.009999694512149), null values are 0.0\n",
      "D_96 min, max is (2.6778247841363624e-10, 1.0099997759615107), null values are 0.0\n",
      "S_22 min, max is (-91.99815644228173, 1.032726655571362), null values are 0.3439242253072476\n",
      "S_23 min, max is (-206.0854662877428, 885.3349224399432), null values are 0.008044905396432147\n",
      "S_24 min, max is (-90.48382192636736, 1.05563794214751), null values are 0.3361324180581189\n",
      "S_25 min, max is (-2.453450577334403, 4.052047833364775), null values are 0.23225370702913214\n",
      "S_26 min, max is (5.137101491969887e-09, 136.6659908858774), null values are 0.011461730385029172\n",
      "D_102 min, max is (9.620586682856923e-10, 1.089998124936563), null values are 0.7349789413302223\n",
      "D_103 min, max is (1.025805731469376e-09, 1.0099999979183536), null values are 1.8358293330267232\n",
      "D_104 min, max is (2.869107660341541e-09, 1.302976101367775), null values are 1.8358293330267232\n",
      "D_105 min, max is (-0.0264048177627183, 5.631732239390759), null values are 54.6227563075222\n",
      "D_106 min, max is (7.532992289949194e-08, 626.829194745863), null values are 90.21325507538619\n",
      "D_107 min, max is (6.403922221398517e-09, 7.009004013330228), null values are 1.8358293330267232\n",
      "B_36 min, max is (1.160855576110009e-09, 1.0023400294860374), null values are 0.0\n",
      "B_37 min, max is (-7.604273054959358, 1.3278119274068874), null values are 0.0010123925892139333\n",
      "R_26 min, max is (2.9707001384382545e-08, 9.509053396045594), null values are 88.98471666837507\n",
      "R_27 min, max is (-0.0257109932455966, 1.0099999997379483), null values are 2.3267493466000153\n",
      "B_38 values are {1.0, 2.0, 3.0, 4.0, 5.0, 6.0, 7.0}, null values are 0.0364461332117016\n",
      "D_108 min, max is (3.917639360595526e-07, 9.008855929641069), null values are 99.4768461295237\n",
      "D_109 min, max is (3.1195673266815046e-10, 1.0099995090554998), null values are 0.0288712672316902\n",
      "D_110 min, max is (-0.0237499422707655, 1.0099996563514988), null values are 99.43353018945662\n",
      "D_111 min, max is (3.091679908044931e-06, 1.0099995086638465), null values are 99.43353018945662\n",
      "B_39 min, max is (-0.9793140255532508, 2.0608986049342155), null values are 99.39198593642065\n",
      "D_112 min, max is (4.3446399642377296e-08, 1.009999999415333), null values are 0.047907863596730764\n",
      "B_40 min, max is (1.2012753594081717e-08, 5755.075986356201), null values are 0.0009581572719346154\n",
      "S_27 min, max is (4.417077348328745e-10, 5.456268982023772), null values are 25.326718070900384\n",
      "D_113 min, max is (1.463473564555784e-11, 25.007557964674724), null values are 3.1947494427773107\n",
      "D_114 values are {0.0, 1.0}, null values are 3.1947494427773107\n",
      "D_115 min, max is (2.228053573816169e-07, 1.9995397891296307), null values are 3.1947494427773107\n",
      "D_116 values are {0.0, 1.0}, null values are 3.1947494427773107\n",
      "D_117 values are {1.0, 2.0, 3.0, 4.0, 5.0, 6.0, -1.0}, null values are 3.1947494427773107\n",
      "D_118 min, max is (2.5519062821777186e-08, 1.9709074899577808), null values are 3.1947494427773107\n",
      "D_119 min, max is (7.076708925080057e-08, 1.9770066990806103), null values are 3.1947494427773107\n",
      "D_120 values are {0.0, 1.0}, null values are 3.1947494427773107\n",
      "D_121 min, max is (-0.0320754701614068, 1.7911148155352958), null values are 3.1947494427773107\n",
      "D_122 min, max is (4.0330947662647896e-08, 2.009276229032558), null values are 3.1947494427773107\n",
      "D_123 min, max is (8.57864307368672e-10, 104.00615868344808), null values are 3.1947494427773107\n",
      "D_124 min, max is (-0.0454543793091853, 9.094334743722644), null values are 3.1947494427773107\n",
      "D_125 min, max is (4.410463673165665e-09, 14.008477392892544), null values are 3.1947494427773107\n",
      "D_126 values are {0.0, 1.0, -1.0}, null values are 2.1118509411002644\n",
      "D_127 min, max is (1.006008072401698e-09, 1.0099999960157997), null values are 0.0\n",
      "D_128 min, max is (3.235348691177364e-09, 1.0234716631646796), null values are 1.8358293330267232\n",
      "D_129 min, max is (2.42287579999001e-10, 1.0099999971771794), null values are 1.8358293330267232\n",
      "B_41 min, max is (2.030712941136769e-09, 22.004879042044784), null values are 0.012474122974243104\n",
      "B_42 min, max is (3.108574445339449e-06, 9.05183699270306), null values are 98.70778933050298\n",
      "D_130 min, max is (6.097073512734142e-11, 1.0280444096044516), null values are 1.8358293330267232\n",
      "D_131 min, max is (5.173169237426834e-10, 1.4916238249969112), null values are 1.8358293330267232\n",
      "D_132 min, max is (-0.0151019866772518, 6.039005598187905), null values are 90.19105475217985\n",
      "D_133 min, max is (6.380581907272642e-10, 1.5099995456902016), null values are 0.7722386043011138\n",
      "R_28 min, max is (1.0979224740470524e-09, 1.0099956346812466), null values are 0.0\n",
      "D_134 min, max is (-0.0124442006641261, 1.0099998439935904), null values are 96.48014598701137\n",
      "D_135 min, max is (5.0083038493076174e-08, 1.0099986146572169), null values are 96.48014598701137\n",
      "D_136 min, max is (6.31677341755843e-08, 1.7599103045031437), null values are 96.48014598701137\n",
      "D_137 min, max is (1.0787865332151373e-08, 1.009997646372751), null values are 96.48014598701137\n",
      "D_138 min, max is (3.3079232127919414e-08, 3.0053825226360766), null values are 96.48014598701137\n",
      "D_139 min, max is (3.7673473007870937e-10, 1.0099999942934916), null values are 1.8358293330267232\n",
      "D_140 min, max is (3.7250732820570675e-09, 1.009999985316682), null values are 0.734563137231081\n",
      "D_141 min, max is (1.650099723526921e-10, 1.339910388202192), null values are 1.8358293330267232\n",
      "D_142 min, max is (-0.0145393397907504, 2.2293682152868834), null values are 82.926577492958\n",
      "D_143 min, max is (5.5496921291808834e-09, 1.00999999917923), null values are 1.8358293330267232\n",
      "D_144 min, max is (2.5009905724182604e-09, 1.3433309550075665), null values are 0.736280588944926\n",
      "D_145 min, max is (1.226024014533422e-09, 4.82762988488277), null values are 1.8358293330267232\n"
     ]
    }
   ],
   "source": [
    "TOTAL_ROWS = 5531451\n",
    "\n",
    "for col in col_stats:\n",
    "    if col in cat_cols:\n",
    "        print (f'{col} values are {col_stats[col][0]}, null values are {(col_stats[col][1]/TOTAL_ROWS)*100}')\n",
    "    else:\n",
    "        print (f'{col} min, max is {col_stats[col][0]}, null values are {(col_stats[col][1]/TOTAL_ROWS)*100}')"
   ]
  },
  {
   "cell_type": "code",
   "execution_count": 11,
   "id": "99a12e6c",
   "metadata": {},
   "outputs": [
    {
     "name": "stdout",
     "output_type": "stream",
     "text": [
      "D_63 values are {'CO', 'XZ', 'CL', 'XM', 'XL', 'CR'}, null values are 0.0\n",
      "<class 'str'>\n",
      "<class 'str'>\n",
      "<class 'str'>\n",
      "<class 'str'>\n",
      "<class 'str'>\n",
      "<class 'str'>\n",
      "D_64 values are {'R', '-1', 'U', 'O'}, null values are 3.9310119532831442\n",
      "<class 'str'>\n",
      "<class 'str'>\n",
      "<class 'str'>\n",
      "<class 'str'>\n",
      "D_66 values are {0.0, 1.0}, null values are 88.73073267755603\n",
      "<class 'float'>\n",
      "<class 'float'>\n",
      "D_68 values are {0.0, 1.0, 2.0, 3.0, 4.0, 5.0, 6.0}, null values are 3.9140362989747177\n",
      "<class 'float'>\n",
      "<class 'float'>\n",
      "<class 'float'>\n",
      "<class 'float'>\n",
      "<class 'float'>\n",
      "<class 'float'>\n",
      "<class 'float'>\n",
      "B_30 values are {0.0, 1.0, 2.0}, null values are 0.0364461332117016\n",
      "<class 'float'>\n",
      "<class 'float'>\n",
      "<class 'float'>\n",
      "B_38 values are {1.0, 2.0, 3.0, 4.0, 5.0, 6.0, 7.0}, null values are 0.0364461332117016\n",
      "<class 'float'>\n",
      "<class 'float'>\n",
      "<class 'float'>\n",
      "<class 'float'>\n",
      "<class 'float'>\n",
      "<class 'float'>\n",
      "<class 'float'>\n",
      "D_114 values are {0.0, 1.0}, null values are 3.1947494427773107\n",
      "<class 'float'>\n",
      "<class 'float'>\n",
      "D_116 values are {0.0, 1.0}, null values are 3.1947494427773107\n",
      "<class 'float'>\n",
      "<class 'float'>\n",
      "D_117 values are {1.0, 2.0, 3.0, 4.0, 5.0, 6.0, -1.0}, null values are 3.1947494427773107\n",
      "<class 'float'>\n",
      "<class 'float'>\n",
      "<class 'float'>\n",
      "<class 'float'>\n",
      "<class 'float'>\n",
      "<class 'float'>\n",
      "<class 'float'>\n",
      "D_120 values are {0.0, 1.0}, null values are 3.1947494427773107\n",
      "<class 'float'>\n",
      "<class 'float'>\n",
      "D_126 values are {0.0, 1.0, -1.0}, null values are 2.1118509411002644\n",
      "<class 'float'>\n",
      "<class 'float'>\n",
      "<class 'float'>\n"
     ]
    }
   ],
   "source": [
    "for col in col_stats:\n",
    "    if col in cat_cols:\n",
    "        print (f'{col} values are {col_stats[col][0]}, null values are {(col_stats[col][1]/TOTAL_ROWS)*100}')\n",
    "        for e in col_stats[col][0]:\n",
    "            print(type(e))"
   ]
  },
  {
   "cell_type": "code",
   "execution_count": 47,
   "id": "7c77357b",
   "metadata": {},
   "outputs": [],
   "source": [
    "#\n",
    "# Converter dictionary to be used when reading the CSV into a dataframe.\n",
    "#\n",
    "converter_dict = {\n",
    "        \"customer_ID\" : (lambda x: (np.uint32(cid_map_dict[x]))),\n",
    "        #\"customer_ID\" : (lambda x: \"\"),\n",
    "        \"S_2\": pd.to_datetime\n",
    "    }\n",
    "\n",
    "dtype_dict = {}\n",
    "\n",
    "for col_name in col_stats:\n",
    "    if col_name in cat_cols:\n",
    "        dtype_dict[col_name] = 'category'\n",
    "    else:\n",
    "        dtype_dict[col_name] = 'float32'\n",
    "    "
   ]
  },
  {
   "cell_type": "code",
   "execution_count": 21,
   "id": "bcbc87f5",
   "metadata": {},
   "outputs": [
    {
     "name": "stdout",
     "output_type": "stream",
     "text": [
      "<class 'pandas.core.frame.DataFrame'>\n",
      "RangeIndex: 100000 entries, 0 to 99999\n",
      "Columns: 190 entries, customer_ID to D_145\n",
      "dtypes: float64(185), int64(1), object(4)\n",
      "memory usage: 145.0+ MB\n"
     ]
    }
   ],
   "source": [
    "chunksize = 100\n",
    "with pd.read_csv(FILENAME_TRAIN_DATA_CSV, chunksize=chunksize) as reader:\n",
    "    for chunk in reader:\n",
    "        chunk.info()\n",
    "        break"
   ]
  },
  {
   "cell_type": "code",
   "execution_count": 28,
   "id": "68489507",
   "metadata": {},
   "outputs": [
    {
     "name": "stdout",
     "output_type": "stream",
     "text": [
      "<class 'pandas.core.frame.DataFrame'>\n",
      "RangeIndex: 100 entries, 0 to 99\n",
      "Columns: 190 entries, customer_ID to D_145\n",
      "dtypes: category(11), datetime64[ns](1), float32(177), int64(1)\n",
      "memory usage: 73.0 KB\n"
     ]
    },
    {
     "name": "stderr",
     "output_type": "stream",
     "text": [
      "<ipython-input-28-35758c9a67e2>:3: ParserWarning: Both a converter and dtype were specified for column customer_ID - only the converter will be used\n",
      "  for chunk in reader:\n"
     ]
    }
   ],
   "source": [
    "chunksize = 100\n",
    "with pd.read_csv(FILENAME_TRAIN_DATA_CSV, chunksize=chunksize, dtype = dtype_dict, converters = converter_dict) as reader:\n",
    "    for chunk in reader:\n",
    "        chunk.info()\n",
    "        break"
   ]
  },
  {
   "cell_type": "code",
   "execution_count": 18,
   "id": "89abebec",
   "metadata": {},
   "outputs": [
    {
     "name": "stdout",
     "output_type": "stream",
     "text": [
      "2022-06-05 18:42:01.412960\n",
      "2022-06-05 18:43:43.532927\n",
      "<class 'pandas.core.frame.DataFrame'>\n",
      "RangeIndex: 5531451 entries, 0 to 5531450\n",
      "Columns: 190 entries, customer_ID to D_145\n",
      "dtypes: float64(185), int64(1), object(4)\n",
      "memory usage: 9.2 GB\n"
     ]
    }
   ],
   "source": [
    "print(datetime.datetime.now())\n",
    "df1 =  pd.read_csv(FILENAME_TRAIN_DATA_CSV)\n",
    "print(datetime.datetime.now())\n",
    "df1.info(memory_usage=\"deep\")"
   ]
  },
  {
   "cell_type": "code",
   "execution_count": 100,
   "id": "3450cc3e",
   "metadata": {},
   "outputs": [
    {
     "data": {
      "text/plain": [
       "0"
      ]
     },
     "execution_count": 100,
     "metadata": {},
     "output_type": "execute_result"
    }
   ],
   "source": [
    "del df1\n",
    "gc.collect()"
   ]
  },
  {
   "cell_type": "code",
   "execution_count": 48,
   "id": "7550e305",
   "metadata": {},
   "outputs": [
    {
     "name": "stdout",
     "output_type": "stream",
     "text": [
      "2022-07-22 11:38:23.914909\n",
      "2022-07-22 11:44:50.024458\n",
      "<class 'pandas.core.frame.DataFrame'>\n",
      "RangeIndex: 5531451 entries, 0 to 5531450\n",
      "Columns: 190 entries, customer_ID to D_145\n",
      "dtypes: category(11), datetime64[ns](1), float32(177), int64(1)\n",
      "memory usage: 3.8 GB\n"
     ]
    }
   ],
   "source": [
    "print(datetime.datetime.now())\n",
    "train_df =  pd.read_csv(FILENAME_TRAIN_DATA_CSV,  dtype = dtype_dict, converters = converter_dict)\n",
    "print(datetime.datetime.now())\n",
    "train_df.info(memory_usage=\"deep\")"
   ]
  },
  {
   "cell_type": "code",
   "execution_count": 43,
   "id": "7f724676",
   "metadata": {},
   "outputs": [
    {
     "name": "stdout",
     "output_type": "stream",
     "text": [
      "2022-07-20 18:35:43.923514\n",
      "2022-07-20 18:35:43.944004\n",
      "<class 'pandas.core.frame.DataFrame'>\n",
      "RangeIndex: 5531451 entries, 0 to 5531450\n",
      "Columns: 190 entries, customer_ID to D_145\n",
      "dtypes: category(11), datetime64[ns](1), float32(177), uint32(1)\n",
      "memory usage: 3.8 GB\n"
     ]
    }
   ],
   "source": [
    "print(datetime.datetime.now())\n",
    "train_df[[\"customer_ID\"]] = train_df[[\"customer_ID\"]].astype(np.uint32)\n",
    "print(datetime.datetime.now())\n",
    "train_df.info(memory_usage=\"deep\")"
   ]
  },
  {
   "cell_type": "code",
   "execution_count": 103,
   "id": "a2227b35",
   "metadata": {},
   "outputs": [
    {
     "data": {
      "text/html": [
       "<div>\n",
       "<style scoped>\n",
       "    .dataframe tbody tr th:only-of-type {\n",
       "        vertical-align: middle;\n",
       "    }\n",
       "\n",
       "    .dataframe tbody tr th {\n",
       "        vertical-align: top;\n",
       "    }\n",
       "\n",
       "    .dataframe thead th {\n",
       "        text-align: right;\n",
       "    }\n",
       "</style>\n",
       "<table border=\"1\" class=\"dataframe\">\n",
       "  <thead>\n",
       "    <tr style=\"text-align: right;\">\n",
       "      <th></th>\n",
       "      <th>customer_ID</th>\n",
       "      <th>P_2</th>\n",
       "      <th>D_39</th>\n",
       "      <th>B_1</th>\n",
       "      <th>B_2</th>\n",
       "      <th>R_1</th>\n",
       "      <th>S_3</th>\n",
       "      <th>D_41</th>\n",
       "      <th>B_3</th>\n",
       "      <th>D_42</th>\n",
       "      <th>...</th>\n",
       "      <th>D_136</th>\n",
       "      <th>D_137</th>\n",
       "      <th>D_138</th>\n",
       "      <th>D_139</th>\n",
       "      <th>D_140</th>\n",
       "      <th>D_141</th>\n",
       "      <th>D_142</th>\n",
       "      <th>D_143</th>\n",
       "      <th>D_144</th>\n",
       "      <th>D_145</th>\n",
       "    </tr>\n",
       "  </thead>\n",
       "  <tbody>\n",
       "    <tr>\n",
       "      <th>count</th>\n",
       "      <td>5.531451e+06</td>\n",
       "      <td>5.485466e+06</td>\n",
       "      <td>5.531451e+06</td>\n",
       "      <td>5.531451e+06</td>\n",
       "      <td>5.529435e+06</td>\n",
       "      <td>5.531451e+06</td>\n",
       "      <td>4.510907e+06</td>\n",
       "      <td>5.529435e+06</td>\n",
       "      <td>5.529435e+06</td>\n",
       "      <td>791314.000000</td>\n",
       "      <td>...</td>\n",
       "      <td>1.946990e+05</td>\n",
       "      <td>1.946990e+05</td>\n",
       "      <td>1.946990e+05</td>\n",
       "      <td>5.429903e+06</td>\n",
       "      <td>5.490819e+06</td>\n",
       "      <td>5.429903e+06</td>\n",
       "      <td>944408.000000</td>\n",
       "      <td>5.429903e+06</td>\n",
       "      <td>5.490724e+06</td>\n",
       "      <td>5.429903e+06</td>\n",
       "    </tr>\n",
       "    <tr>\n",
       "      <th>mean</th>\n",
       "      <td>2.294194e+05</td>\n",
       "      <td>6.563343e-01</td>\n",
       "      <td>1.531172e-01</td>\n",
       "      <td>1.240101e-01</td>\n",
       "      <td>6.214890e-01</td>\n",
       "      <td>7.880273e-02</td>\n",
       "      <td>2.258454e-01</td>\n",
       "      <td>5.978473e-02</td>\n",
       "      <td>1.325390e-01</td>\n",
       "      <td>0.184974</td>\n",
       "      <td>...</td>\n",
       "      <td>2.427725e-01</td>\n",
       "      <td>1.424409e-02</td>\n",
       "      <td>1.646184e-01</td>\n",
       "      <td>1.789304e-01</td>\n",
       "      <td>2.664348e-02</td>\n",
       "      <td>1.645212e-01</td>\n",
       "      <td>0.390799</td>\n",
       "      <td>1.788023e-01</td>\n",
       "      <td>5.238953e-02</td>\n",
       "      <td>6.233494e-02</td>\n",
       "    </tr>\n",
       "    <tr>\n",
       "      <th>std</th>\n",
       "      <td>1.324902e+05</td>\n",
       "      <td>2.446494e-01</td>\n",
       "      <td>2.700709e-01</td>\n",
       "      <td>2.119869e-01</td>\n",
       "      <td>4.014876e-01</td>\n",
       "      <td>2.263971e-01</td>\n",
       "      <td>1.933475e-01</td>\n",
       "      <td>2.025443e-01</td>\n",
       "      <td>2.349929e-01</td>\n",
       "      <td>0.228185</td>\n",
       "      <td>...</td>\n",
       "      <td>2.101320e-01</td>\n",
       "      <td>9.571116e-02</td>\n",
       "      <td>2.670208e-01</td>\n",
       "      <td>3.790614e-01</td>\n",
       "      <td>1.455480e-01</td>\n",
       "      <td>3.482771e-01</td>\n",
       "      <td>0.236182</td>\n",
       "      <td>3.789498e-01</td>\n",
       "      <td>1.825135e-01</td>\n",
       "      <td>1.934937e-01</td>\n",
       "    </tr>\n",
       "    <tr>\n",
       "      <th>min</th>\n",
       "      <td>0.000000e+00</td>\n",
       "      <td>-4.589548e-01</td>\n",
       "      <td>5.026190e-09</td>\n",
       "      <td>-7.588799e+00</td>\n",
       "      <td>9.192280e-09</td>\n",
       "      <td>1.534223e-09</td>\n",
       "      <td>-6.271321e-01</td>\n",
       "      <td>5.566545e-10</td>\n",
       "      <td>6.285293e-09</td>\n",
       "      <td>-0.000454</td>\n",
       "      <td>...</td>\n",
       "      <td>6.316773e-08</td>\n",
       "      <td>1.078787e-08</td>\n",
       "      <td>3.307923e-08</td>\n",
       "      <td>3.767347e-10</td>\n",
       "      <td>3.725073e-09</td>\n",
       "      <td>1.650100e-10</td>\n",
       "      <td>-0.014539</td>\n",
       "      <td>5.549692e-09</td>\n",
       "      <td>2.500991e-09</td>\n",
       "      <td>1.226024e-09</td>\n",
       "    </tr>\n",
       "    <tr>\n",
       "      <th>25%</th>\n",
       "      <td>1.146690e+05</td>\n",
       "      <td>4.803307e-01</td>\n",
       "      <td>4.528464e-03</td>\n",
       "      <td>8.863645e-03</td>\n",
       "      <td>1.053313e-01</td>\n",
       "      <td>2.895934e-03</td>\n",
       "      <td>1.272588e-01</td>\n",
       "      <td>2.873244e-03</td>\n",
       "      <td>5.227570e-03</td>\n",
       "      <td>0.037516</td>\n",
       "      <td>...</td>\n",
       "      <td>9.314305e-03</td>\n",
       "      <td>2.532470e-03</td>\n",
       "      <td>3.517452e-03</td>\n",
       "      <td>3.027212e-03</td>\n",
       "      <td>2.555848e-03</td>\n",
       "      <td>3.026087e-03</td>\n",
       "      <td>0.199399</td>\n",
       "      <td>3.028116e-03</td>\n",
       "      <td>2.752895e-03</td>\n",
       "      <td>3.028347e-03</td>\n",
       "    </tr>\n",
       "    <tr>\n",
       "      <th>50%</th>\n",
       "      <td>2.293800e+05</td>\n",
       "      <td>6.942950e-01</td>\n",
       "      <td>9.056902e-03</td>\n",
       "      <td>3.132968e-02</td>\n",
       "      <td>8.143328e-01</td>\n",
       "      <td>5.782230e-03</td>\n",
       "      <td>1.639082e-01</td>\n",
       "      <td>5.746725e-03</td>\n",
       "      <td>9.777229e-03</td>\n",
       "      <td>0.120519</td>\n",
       "      <td>...</td>\n",
       "      <td>2.539468e-01</td>\n",
       "      <td>5.069830e-03</td>\n",
       "      <td>7.037814e-03</td>\n",
       "      <td>6.053010e-03</td>\n",
       "      <td>5.110523e-03</td>\n",
       "      <td>6.051590e-03</td>\n",
       "      <td>0.382136</td>\n",
       "      <td>6.053151e-03</td>\n",
       "      <td>5.508129e-03</td>\n",
       "      <td>6.053247e-03</td>\n",
       "    </tr>\n",
       "    <tr>\n",
       "      <th>75%</th>\n",
       "      <td>3.442090e+05</td>\n",
       "      <td>8.648159e-01</td>\n",
       "      <td>2.366407e-01</td>\n",
       "      <td>1.259019e-01</td>\n",
       "      <td>1.002403e+00</td>\n",
       "      <td>8.660590e-03</td>\n",
       "      <td>2.581017e-01</td>\n",
       "      <td>8.615665e-03</td>\n",
       "      <td>1.550507e-01</td>\n",
       "      <td>0.250869</td>\n",
       "      <td>...</td>\n",
       "      <td>2.582450e-01</td>\n",
       "      <td>7.573434e-03</td>\n",
       "      <td>5.015469e-01</td>\n",
       "      <td>9.080455e-03</td>\n",
       "      <td>7.663697e-03</td>\n",
       "      <td>9.078914e-03</td>\n",
       "      <td>0.559307</td>\n",
       "      <td>9.076287e-03</td>\n",
       "      <td>8.260448e-03</td>\n",
       "      <td>9.080930e-03</td>\n",
       "    </tr>\n",
       "    <tr>\n",
       "      <th>max</th>\n",
       "      <td>4.589120e+05</td>\n",
       "      <td>1.010000e+00</td>\n",
       "      <td>5.389619e+00</td>\n",
       "      <td>1.324060e+00</td>\n",
       "      <td>1.010000e+00</td>\n",
       "      <td>3.256284e+00</td>\n",
       "      <td>5.482888e+00</td>\n",
       "      <td>8.988807e+00</td>\n",
       "      <td>1.625262e+00</td>\n",
       "      <td>4.191119</td>\n",
       "      <td>...</td>\n",
       "      <td>1.759910e+00</td>\n",
       "      <td>1.009998e+00</td>\n",
       "      <td>3.005383e+00</td>\n",
       "      <td>1.010000e+00</td>\n",
       "      <td>1.010000e+00</td>\n",
       "      <td>1.339910e+00</td>\n",
       "      <td>2.229368</td>\n",
       "      <td>1.010000e+00</td>\n",
       "      <td>1.343331e+00</td>\n",
       "      <td>4.827630e+00</td>\n",
       "    </tr>\n",
       "  </tbody>\n",
       "</table>\n",
       "<p>8 rows × 178 columns</p>\n",
       "</div>"
      ],
      "text/plain": [
       "        customer_ID           P_2          D_39           B_1           B_2  \\\n",
       "count  5.531451e+06  5.485466e+06  5.531451e+06  5.531451e+06  5.529435e+06   \n",
       "mean   2.294194e+05  6.563343e-01  1.531172e-01  1.240101e-01  6.214890e-01   \n",
       "std    1.324902e+05  2.446494e-01  2.700709e-01  2.119869e-01  4.014876e-01   \n",
       "min    0.000000e+00 -4.589548e-01  5.026190e-09 -7.588799e+00  9.192280e-09   \n",
       "25%    1.146690e+05  4.803307e-01  4.528464e-03  8.863645e-03  1.053313e-01   \n",
       "50%    2.293800e+05  6.942950e-01  9.056902e-03  3.132968e-02  8.143328e-01   \n",
       "75%    3.442090e+05  8.648159e-01  2.366407e-01  1.259019e-01  1.002403e+00   \n",
       "max    4.589120e+05  1.010000e+00  5.389619e+00  1.324060e+00  1.010000e+00   \n",
       "\n",
       "                R_1           S_3          D_41           B_3           D_42  \\\n",
       "count  5.531451e+06  4.510907e+06  5.529435e+06  5.529435e+06  791314.000000   \n",
       "mean   7.880273e-02  2.258454e-01  5.978473e-02  1.325390e-01       0.184974   \n",
       "std    2.263971e-01  1.933475e-01  2.025443e-01  2.349929e-01       0.228185   \n",
       "min    1.534223e-09 -6.271321e-01  5.566545e-10  6.285293e-09      -0.000454   \n",
       "25%    2.895934e-03  1.272588e-01  2.873244e-03  5.227570e-03       0.037516   \n",
       "50%    5.782230e-03  1.639082e-01  5.746725e-03  9.777229e-03       0.120519   \n",
       "75%    8.660590e-03  2.581017e-01  8.615665e-03  1.550507e-01       0.250869   \n",
       "max    3.256284e+00  5.482888e+00  8.988807e+00  1.625262e+00       4.191119   \n",
       "\n",
       "       ...         D_136         D_137         D_138         D_139  \\\n",
       "count  ...  1.946990e+05  1.946990e+05  1.946990e+05  5.429903e+06   \n",
       "mean   ...  2.427725e-01  1.424409e-02  1.646184e-01  1.789304e-01   \n",
       "std    ...  2.101320e-01  9.571116e-02  2.670208e-01  3.790614e-01   \n",
       "min    ...  6.316773e-08  1.078787e-08  3.307923e-08  3.767347e-10   \n",
       "25%    ...  9.314305e-03  2.532470e-03  3.517452e-03  3.027212e-03   \n",
       "50%    ...  2.539468e-01  5.069830e-03  7.037814e-03  6.053010e-03   \n",
       "75%    ...  2.582450e-01  7.573434e-03  5.015469e-01  9.080455e-03   \n",
       "max    ...  1.759910e+00  1.009998e+00  3.005383e+00  1.010000e+00   \n",
       "\n",
       "              D_140         D_141          D_142         D_143         D_144  \\\n",
       "count  5.490819e+06  5.429903e+06  944408.000000  5.429903e+06  5.490724e+06   \n",
       "mean   2.664348e-02  1.645212e-01       0.390799  1.788023e-01  5.238953e-02   \n",
       "std    1.455480e-01  3.482771e-01       0.236182  3.789498e-01  1.825135e-01   \n",
       "min    3.725073e-09  1.650100e-10      -0.014539  5.549692e-09  2.500991e-09   \n",
       "25%    2.555848e-03  3.026087e-03       0.199399  3.028116e-03  2.752895e-03   \n",
       "50%    5.110523e-03  6.051590e-03       0.382136  6.053151e-03  5.508129e-03   \n",
       "75%    7.663697e-03  9.078914e-03       0.559307  9.076287e-03  8.260448e-03   \n",
       "max    1.010000e+00  1.339910e+00       2.229368  1.010000e+00  1.343331e+00   \n",
       "\n",
       "              D_145  \n",
       "count  5.429903e+06  \n",
       "mean   6.233494e-02  \n",
       "std    1.934937e-01  \n",
       "min    1.226024e-09  \n",
       "25%    3.028347e-03  \n",
       "50%    6.053247e-03  \n",
       "75%    9.080930e-03  \n",
       "max    4.827630e+00  \n",
       "\n",
       "[8 rows x 178 columns]"
      ]
     },
     "execution_count": 103,
     "metadata": {},
     "output_type": "execute_result"
    }
   ],
   "source": [
    "train_df.describe()"
   ]
  },
  {
   "cell_type": "code",
   "execution_count": 26,
   "id": "445feb78",
   "metadata": {},
   "outputs": [
    {
     "name": "stdout",
     "output_type": "stream",
     "text": [
      "{dtype('uint32'): 1, dtype('<M8[ns]'): 1, dtype('float32'): 177, CategoricalDtype(categories=['CL', 'CO', 'CR', 'XL', 'XM', 'XZ'], ordered=False): 1, CategoricalDtype(categories=['-1', 'O', 'R', 'U'], ordered=False): 1, CategoricalDtype(categories=['0.0', '1.0'], ordered=False): 4, CategoricalDtype(categories=['0.0', '1.0', '2.0', '3.0', '4.0', '5.0', '6.0'], ordered=False): 1, CategoricalDtype(categories=['0.0', '1.0', '2.0'], ordered=False): 1, CategoricalDtype(categories=['1.0', '2.0', '3.0', '4.0', '5.0', '6.0', '7.0'], ordered=False): 1, CategoricalDtype(categories=['-1.0', '1.0', '2.0', '3.0', '4.0', '5.0', '6.0'], ordered=False): 1, CategoricalDtype(categories=['-1.0', '0.0', '1.0'], ordered=False): 1}\n"
     ]
    }
   ],
   "source": [
    "t_count = {}\n",
    "for t in train_df.dtypes.tolist():\n",
    "    if t in t_count:\n",
    "        t_count[t] += 1\n",
    "    else:\n",
    "        t_count[t] = 1\n",
    "        \n",
    "        \n",
    "print(t_count)"
   ]
  },
  {
   "cell_type": "markdown",
   "id": "2de3bed2",
   "metadata": {},
   "source": [
    "Why we are using feather: https://towardsdatascience.com/the-best-format-to-save-pandas-data-414dca023e0d"
   ]
  },
  {
   "cell_type": "code",
   "execution_count": 30,
   "id": "22d246e5",
   "metadata": {},
   "outputs": [],
   "source": [
    "train_df.to_feather(FILENAME_TRAIN_DATA_FEATHER)"
   ]
  },
  {
   "cell_type": "code",
   "execution_count": 32,
   "id": "fa96bbe9",
   "metadata": {},
   "outputs": [
    {
     "name": "stdout",
     "output_type": "stream",
     "text": [
      "<class 'pandas.core.frame.DataFrame'>\n",
      "RangeIndex: 5531451 entries, 0 to 5531450\n",
      "Columns: 190 entries, customer_ID to D_145\n",
      "dtypes: category(11), datetime64[ns](1), float32(177), uint32(1)\n",
      "memory usage: 3.8 GB\n"
     ]
    }
   ],
   "source": [
    "train_df.info(memory_usage=\"deep\")"
   ]
  },
  {
   "cell_type": "code",
   "execution_count": 45,
   "id": "f85ff190",
   "metadata": {},
   "outputs": [
    {
     "name": "stdout",
     "output_type": "stream",
     "text": [
      "2022-07-22 11:35:44.609629\n",
      "2022-07-22 11:35:45.012990\n",
      "<class 'pandas.core.frame.DataFrame'>\n",
      "RangeIndex: 458913 entries, 0 to 458912\n",
      "Data columns (total 2 columns):\n",
      " #   Column       Non-Null Count   Dtype\n",
      "---  ------       --------------   -----\n",
      " 0   customer_ID  458913 non-null  int64\n",
      " 1   target       458913 non-null  int64\n",
      "dtypes: int64(2)\n",
      "memory usage: 7.0 MB\n"
     ]
    }
   ],
   "source": [
    "print(datetime.datetime.now())\n",
    "train_labels_df =  pd.read_csv(FILENAME_TRAIN_LABELS_CSV, converters = {\"customer_ID\" : (lambda x: (np.uint32(cid_map_dict[x])))})\n",
    "print(datetime.datetime.now())\n",
    "train_labels_df.info(memory_usage=\"deep\")"
   ]
  },
  {
   "cell_type": "code",
   "execution_count": 39,
   "id": "10088ad2",
   "metadata": {},
   "outputs": [
    {
     "data": {
      "text/plain": [
       "118828"
      ]
     },
     "execution_count": 39,
     "metadata": {},
     "output_type": "execute_result"
    }
   ],
   "source": [
    "(train_labels_df['target']==1).sum()"
   ]
  },
  {
   "cell_type": "code",
   "execution_count": 44,
   "id": "dcdf134d",
   "metadata": {},
   "outputs": [
    {
     "ename": "NameError",
     "evalue": "name 'train_df' is not defined",
     "output_type": "error",
     "traceback": [
      "\u001b[0;31m---------------------------------------------------------------------------\u001b[0m",
      "\u001b[0;31mNameError\u001b[0m                                 Traceback (most recent call last)",
      "\u001b[0;32m<ipython-input-44-2444e4b6a295>\u001b[0m in \u001b[0;36m<module>\u001b[0;34m\u001b[0m\n\u001b[0;32m----> 1\u001b[0;31m \u001b[0mcustomers\u001b[0m \u001b[0;34m=\u001b[0m \u001b[0mtrain_df\u001b[0m\u001b[0;34m[\u001b[0m\u001b[0;34m\"customer_ID\"\u001b[0m\u001b[0;34m]\u001b[0m\u001b[0;34m\u001b[0m\u001b[0;34m\u001b[0m\u001b[0m\n\u001b[0m\u001b[1;32m      2\u001b[0m \u001b[0mcustomers\u001b[0m \u001b[0;34m=\u001b[0m \u001b[0mcustomers\u001b[0m\u001b[0;34m.\u001b[0m\u001b[0mdrop_duplicates\u001b[0m\u001b[0;34m(\u001b[0m\u001b[0;34m)\u001b[0m\u001b[0;34m.\u001b[0m\u001b[0msort_index\u001b[0m\u001b[0;34m(\u001b[0m\u001b[0;34m)\u001b[0m\u001b[0;34m.\u001b[0m\u001b[0mvalues\u001b[0m\u001b[0;34m.\u001b[0m\u001b[0mflatten\u001b[0m\u001b[0;34m(\u001b[0m\u001b[0;34m)\u001b[0m\u001b[0;34m\u001b[0m\u001b[0;34m\u001b[0m\u001b[0m\n\u001b[1;32m      3\u001b[0m \u001b[0mlen\u001b[0m\u001b[0;34m(\u001b[0m\u001b[0mcustomers\u001b[0m\u001b[0;34m)\u001b[0m\u001b[0;34m\u001b[0m\u001b[0;34m\u001b[0m\u001b[0m\n\u001b[1;32m      4\u001b[0m \u001b[0mtype\u001b[0m\u001b[0;34m(\u001b[0m\u001b[0mcustomers\u001b[0m\u001b[0;34m)\u001b[0m\u001b[0;34m\u001b[0m\u001b[0;34m\u001b[0m\u001b[0m\n",
      "\u001b[0;31mNameError\u001b[0m: name 'train_df' is not defined"
     ]
    }
   ],
   "source": []
  },
  {
   "cell_type": "code",
   "execution_count": null,
   "id": "5cecd5a5",
   "metadata": {},
   "outputs": [],
   "source": []
  }
 ],
 "metadata": {
  "kernelspec": {
   "display_name": "Python 3 (ipykernel)",
   "language": "python",
   "name": "python3"
  },
  "language_info": {
   "codemirror_mode": {
    "name": "ipython",
    "version": 3
   },
   "file_extension": ".py",
   "mimetype": "text/x-python",
   "name": "python",
   "nbconvert_exporter": "python",
   "pygments_lexer": "ipython3",
   "version": "3.10.12"
  }
 },
 "nbformat": 4,
 "nbformat_minor": 5
}
