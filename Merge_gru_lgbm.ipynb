{
 "cells": [
  {
   "cell_type": "code",
   "execution_count": 1,
   "id": "0cd7fbff",
   "metadata": {},
   "outputs": [
    {
     "data": {
      "text/html": [
       "<style>.container { width:100% !important; }</style>"
      ],
      "text/plain": [
       "<IPython.core.display.HTML object>"
      ]
     },
     "metadata": {},
     "output_type": "display_data"
    }
   ],
   "source": [
    "#\n",
    "# Below needed for GRU\n",
    "#\n",
    "import pandas as pd\n",
    "import datetime\n",
    "import numpy as np\n",
    "import gc\n",
    "\n",
    "import utils\n",
    "utils.widen_ipython_window()\n"
   ]
  },
  {
   "cell_type": "code",
   "execution_count": 9,
   "id": "adc90385",
   "metadata": {},
   "outputs": [],
   "source": [
    "# Paths\n",
    "\n",
    "MAIN_PATH = \"/home/mahesh/Desktop/ML/kaggle/amex/\"\n",
    "\n",
    "# Data\n",
    "PATH_TO_DATA                = MAIN_PATH + \"data/\"\n",
    "PATH_TO_PROCESSED2_DATA     = PATH_TO_DATA + \"processed2/\"\n",
    "\n",
    "FILENAME_GRU_SUBMISSION     = PATH_TO_PROCESSED2_DATA + \"submission_gru.csv\"\n",
    "FILENAME_LGBM_SUBMISSION    = PATH_TO_PROCESSED2_DATA + \"submission_lgbm.csv\"\n",
    "\n",
    "FILENAME_GRU_LGBM_SUBMISSION    = PATH_TO_PROCESSED2_DATA + \"submission_gru_lgbm.csv\"\n",
    "\n",
    "FILENAME_GRU_LGBM_MIN_MAX_SUBMISSION    = PATH_TO_PROCESSED2_DATA + \"submission_gru_lgbm_min_max.csv\"\n",
    "FILENAME_GRU_LGBM_HIGH_CONFIDENCE_SUBMISSION    = PATH_TO_PROCESSED2_DATA + \"submission_gru_lgbm_high_confidence.csv\""
   ]
  },
  {
   "cell_type": "code",
   "execution_count": 6,
   "id": "0e937f49",
   "metadata": {},
   "outputs": [],
   "source": [
    "gru_preds  = pd.read_csv(FILENAME_GRU_SUBMISSION)\n",
    "lgbm_preds = pd.read_csv(FILENAME_LGBM_SUBMISSION)\n",
    "\n",
    "gru_preds.sort_values(by=['customer_ID'],inplace=True)\n",
    "lgbm_preds.sort_values(by=['customer_ID'],inplace=True)\n",
    "\n",
    "avg_preds = (gru_preds.prediction.values + lgbm_preds.prediction.values)/2\n",
    "\n",
    "avg_preds_df = pd.DataFrame({'customer_ID':gru_preds['customer_ID'].values, 'prediction':avg_preds})\n",
    "\n",
    "avg_preds_df.to_csv(FILENAME_GRU_LGBM_SUBMISSION, index=False)"
   ]
  },
  {
   "cell_type": "code",
   "execution_count": 8,
   "id": "d129eba1",
   "metadata": {},
   "outputs": [],
   "source": [
    "gru_preds  = pd.read_csv(FILENAME_GRU_SUBMISSION)\n",
    "lgbm_preds = pd.read_csv(FILENAME_LGBM_SUBMISSION)\n",
    "\n",
    "gru_preds.sort_values(by=['customer_ID'],inplace=True)\n",
    "lgbm_preds.sort_values(by=['customer_ID'],inplace=True)\n",
    "\n",
    "avg_preds = (gru_preds.prediction.values + lgbm_preds.prediction.values)/2\n",
    "\n",
    "max_preds = np.maximum(gru_preds.prediction.values, lgbm_preds.prediction.values)\n",
    "\n",
    "min_preds = np.minimum(gru_preds.prediction.values, lgbm_preds.prediction.values)\n",
    "\n",
    "final_preds = np.where((gru_preds.prediction.values + lgbm_preds.prediction.values)/2 >= 0.5, max_preds, min_preds)\n",
    "\n",
    "\n",
    "final_preds_df = pd.DataFrame({'customer_ID':gru_preds['customer_ID'].values, 'prediction':final_preds})\n",
    "\n",
    "final_preds_df.to_csv(FILENAME_GRU_LGBM_MIN_MAX_SUBMISSION, index=False)"
   ]
  },
  {
   "cell_type": "code",
   "execution_count": 12,
   "id": "5194850f",
   "metadata": {},
   "outputs": [],
   "source": [
    "gru_preds_pd  = pd.read_csv(FILENAME_GRU_SUBMISSION)\n",
    "lgbm_preds_pd = pd.read_csv(FILENAME_LGBM_SUBMISSION)\n",
    "\n",
    "gru_preds_pd.sort_values(by=['customer_ID'],inplace=True)\n",
    "lgbm_preds_pd.sort_values(by=['customer_ID'],inplace=True)\n",
    "\n",
    "gru_preds = gru_preds_pd.prediction.values\n",
    "lgbm_preds = lgbm_preds_pd.prediction.values\n",
    "\n",
    "# both_above_th = np.bitwise_and((gru_preds>=0.5),(lgbm_preds>=0.5))\n",
    "# both_below_th = np.bitwise_and((gru_preds<0.5) ,(lgbm_preds<0.5))\n",
    "\n",
    "# max_preds = np.maximum(gru_preds, lgbm_preds)\n",
    "# min_preds = np.minimum(gru_preds, lgbm_preds)\n",
    "\n",
    "gru_confidence = np.where(gru_preds >= 0.5, (gru_preds-0.5), (0.5-gru_preds))\n",
    "lgbm_confidence = np.where(lgbm_preds >= 0.5, (lgbm_preds-0.5), (0.5-lgbm_preds))\n",
    "\n",
    "high_confidence_pred = np.where(gru_confidence > lgbm_confidence, gru_preds, lgbm_preds)\n",
    "\n",
    "final_preds_df = pd.DataFrame({'customer_ID':gru_preds_pd['customer_ID'].values, 'prediction':high_confidence_pred})\n",
    "\n",
    "final_preds_df.to_csv(FILENAME_GRU_LGBM_HIGH_CONFIDENCE_SUBMISSION, index=False)"
   ]
  },
  {
   "cell_type": "code",
   "execution_count": 13,
   "id": "c67789f9",
   "metadata": {},
   "outputs": [],
   "source": [
    "u_preds_pd  = pd.read_csv(FILENAME_GRU_SUBMISSION)\n",
    "lgbm_preds_pd = pd.read_csv(FILENAME_LGBM_SUBMISSION)\n",
    "\n",
    "gru_preds_pd.sort_values(by=['customer_ID'],inplace=True)\n",
    "lgbm_preds_pd.sort_values(by=['customer_ID'],inplace=True)\n",
    "\n",
    "gru_preds = gru_preds_pd.prediction.values\n",
    "lgbm_preds = lgbm_preds_pd.prediction.values\n",
    "\n",
    "both_above_th = np.bitwise_and((gru_preds>=0.5),(lgbm_preds>=0.5))\n",
    "both_below_th = np.bitwise_and((gru_preds<0.5) ,(lgbm_preds<0.5))\n",
    "\n",
    "# max_preds = np.maximum(gru_preds, lgbm_preds)\n",
    "# min_preds = np.minimum(gru_preds, lgbm_preds)\n",
    "\n",
    "gru_confidence = np.where(gru_preds >= 0.5, (gru_preds-0.5), (0.5-gru_preds))\n",
    "lgbm_confidence = np.where(lgbm_preds >= 0.5, (lgbm_preds-0.5), (0.5-lgbm_preds))\n",
    "\n",
    "high_confidence_pred = np.where(gru_confidence > lgbm_confidence, gru_preds, lgbm_preds)\n",
    "\n",
    "# final_preds_df = pd.DataFrame({'customer_ID':gru_preds_pd['customer_ID'].values, 'prediction':high_confidence_pred})\n",
    "\n",
    "# final_preds_df.to_csv(FILENAME_GRU_LGBM_HIGH_CONFIDENCE_SUBMISSION, index=False)"
   ]
  },
  {
   "cell_type": "code",
   "execution_count": 16,
   "id": "4e76330d",
   "metadata": {},
   "outputs": [
    {
     "name": "stdout",
     "output_type": "stream",
     "text": [
      "26549\n",
      "898072\n"
     ]
    }
   ],
   "source": [
    "c1 = np.count_nonzero(~(np.bitwise_or(both_above_th, both_below_th) ))\n",
    "print(c1)\n",
    "c2 = np.count_nonzero((np.bitwise_or(both_above_th, both_below_th) ))\n",
    "print(c2)"
   ]
  },
  {
   "cell_type": "code",
   "execution_count": null,
   "id": "5328e448",
   "metadata": {},
   "outputs": [],
   "source": []
  }
 ],
 "metadata": {
  "kernelspec": {
   "display_name": "Python 3 (ipykernel)",
   "language": "python",
   "name": "python3"
  },
  "language_info": {
   "codemirror_mode": {
    "name": "ipython",
    "version": 3
   },
   "file_extension": ".py",
   "mimetype": "text/x-python",
   "name": "python",
   "nbconvert_exporter": "python",
   "pygments_lexer": "ipython3",
   "version": "3.10.12"
  }
 },
 "nbformat": 4,
 "nbformat_minor": 5
}
